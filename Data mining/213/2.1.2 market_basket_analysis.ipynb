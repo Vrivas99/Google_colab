{
  "cells": [
    {
      "cell_type": "markdown",
      "id": "5f8471de",
      "metadata": {
        "papermill": {
          "duration": 0.01879,
          "end_time": "2021-09-01T12:04:08.580100",
          "exception": false,
          "start_time": "2021-09-01T12:04:08.561310",
          "status": "completed"
        },
        "tags": [],
        "id": "5f8471de"
      },
      "source": [
        "# MARKET BASKET ANALYSIS\n",
        "**Market basket analysis** es una técnica de extracción de datos utilizada por los retail para aumentar las ventas mediante una mejor comprensión de los patrones de compra de los clientes. Implica analizar grandes conjuntos de datos, como el historial de compras, para revelar grupos de productos, así como productos que probablemente se compren juntos\n",
        "\n",
        "P.ej. la regla **{pepinos, tomates} -> {aceite de girasol}** encontrada en los datos de ventas de un supermercado indicaría que si un cliente compra pepinos y tomates juntos, es probable que también compre aceite de girasol."
      ]
    },
    {
      "cell_type": "markdown",
      "id": "bb936995",
      "metadata": {
        "papermill": {
          "duration": 0.01682,
          "end_time": "2021-09-01T12:04:08.614935",
          "exception": false,
          "start_time": "2021-09-01T12:04:08.598115",
          "status": "completed"
        },
        "tags": [],
        "id": "bb936995"
      },
      "source": [
        "# 1. Importar Libraries\n"
      ]
    },
    {
      "cell_type": "code",
      "source": [
        "!pip install squarify"
      ],
      "metadata": {
        "id": "dVcZo-5WvcQ8"
      },
      "id": "dVcZo-5WvcQ8",
      "execution_count": null,
      "outputs": []
    },
    {
      "cell_type": "code",
      "execution_count": null,
      "id": "451ac8d2",
      "metadata": {
        "execution": {
          "iopub.execute_input": "2021-09-01T12:04:08.655912Z",
          "iopub.status.busy": "2021-09-01T12:04:08.654757Z",
          "iopub.status.idle": "2021-09-01T12:04:09.684688Z",
          "shell.execute_reply": "2021-09-01T12:04:09.683835Z",
          "shell.execute_reply.started": "2021-09-01T12:03:43.703427Z"
        },
        "papermill": {
          "duration": 1.051217,
          "end_time": "2021-09-01T12:04:09.684898",
          "exception": false,
          "start_time": "2021-09-01T12:04:08.633681",
          "status": "completed"
        },
        "tags": [],
        "id": "451ac8d2"
      },
      "outputs": [],
      "source": [
        "import numpy as np\n",
        "import pandas as pd\n",
        "import squarify\n",
        "import matplotlib.pyplot as plt\n",
        "\n",
        "# for market basket analysis\n",
        "from mlxtend.frequent_patterns import apriori\n",
        "from mlxtend.frequent_patterns import association_rules\n",
        "from mlxtend.preprocessing import TransactionEncoder"
      ]
    },
    {
      "cell_type": "markdown",
      "id": "71d9ba81",
      "metadata": {
        "papermill": {
          "duration": 0.017597,
          "end_time": "2021-09-01T12:04:09.720708",
          "exception": false,
          "start_time": "2021-09-01T12:04:09.703111",
          "status": "completed"
        },
        "tags": [],
        "id": "71d9ba81"
      },
      "source": [
        "# 2. Lectura de Datos"
      ]
    },
    {
      "cell_type": "code",
      "execution_count": null,
      "id": "e7fc54ba",
      "metadata": {
        "execution": {
          "iopub.execute_input": "2021-09-01T12:04:09.764260Z",
          "iopub.status.busy": "2021-09-01T12:04:09.763404Z",
          "iopub.status.idle": "2021-09-01T12:04:09.812091Z",
          "shell.execute_reply": "2021-09-01T12:04:09.811297Z",
          "shell.execute_reply.started": "2021-09-01T12:03:43.712467Z"
        },
        "papermill": {
          "duration": 0.073519,
          "end_time": "2021-09-01T12:04:09.812262",
          "exception": false,
          "start_time": "2021-09-01T12:04:09.738743",
          "status": "completed"
        },
        "tags": [],
        "id": "e7fc54ba"
      },
      "outputs": [],
      "source": [
        "df = pd.read_csv('Market_Basket_Optimisation.csv', header = None)"
      ]
    },
    {
      "cell_type": "code",
      "execution_count": null,
      "id": "7c1cfee8",
      "metadata": {
        "execution": {
          "iopub.execute_input": "2021-09-01T12:04:09.857087Z",
          "iopub.status.busy": "2021-09-01T12:04:09.856135Z",
          "iopub.status.idle": "2021-09-01T12:04:09.888401Z",
          "shell.execute_reply": "2021-09-01T12:04:09.887913Z",
          "shell.execute_reply.started": "2021-09-01T12:03:43.742441Z"
        },
        "papermill": {
          "duration": 0.057708,
          "end_time": "2021-09-01T12:04:09.888570",
          "exception": false,
          "start_time": "2021-09-01T12:04:09.830862",
          "status": "completed"
        },
        "tags": [],
        "id": "7c1cfee8"
      },
      "outputs": [],
      "source": [
        "df.head(5) # buscando las primeras 5 filas en el conjunto de datos"
      ]
    },
    {
      "cell_type": "markdown",
      "id": "e000e7e8",
      "metadata": {
        "papermill": {
          "duration": 0.01784,
          "end_time": "2021-09-01T12:04:09.925094",
          "exception": false,
          "start_time": "2021-09-01T12:04:09.907254",
          "status": "completed"
        },
        "tags": [],
        "id": "e000e7e8"
      },
      "source": [
        "# 3. Visualizando datos\n",
        "Aquí se decidio contar todos los valores únicos en todas las columnas y crear algunas visualizaciones.\n",
        "P.ej. si tenemos 5 'almendras' en la primera columna, 3 'almendras' en la segunda columna, etc., tendremos 8 'almendras' en total."
      ]
    },
    {
      "cell_type": "code",
      "execution_count": null,
      "id": "763d2664",
      "metadata": {
        "execution": {
          "iopub.execute_input": "2021-09-01T12:04:09.980732Z",
          "iopub.status.busy": "2021-09-01T12:04:09.979680Z",
          "iopub.status.idle": "2021-09-01T12:04:10.041914Z",
          "shell.execute_reply": "2021-09-01T12:04:10.042809Z",
          "shell.execute_reply.started": "2021-09-01T12:03:43.769264Z"
        },
        "papermill": {
          "duration": 0.099714,
          "end_time": "2021-09-01T12:04:10.043083",
          "exception": false,
          "start_time": "2021-09-01T12:04:09.943369",
          "status": "completed"
        },
        "tags": [],
        "id": "763d2664"
      },
      "outputs": [],
      "source": [
        "df_res = pd.DataFrame()\n",
        "for i in range(len(df.columns)):\n",
        "    df_res = df_res.append(df[i].value_counts())\n"
      ]
    },
    {
      "cell_type": "code",
      "execution_count": null,
      "id": "9cb2149f",
      "metadata": {
        "execution": {
          "iopub.execute_input": "2021-09-01T12:04:10.120674Z",
          "iopub.status.busy": "2021-09-01T12:04:10.101278Z",
          "iopub.status.idle": "2021-09-01T12:04:10.124325Z",
          "shell.execute_reply": "2021-09-01T12:04:10.123720Z",
          "shell.execute_reply.started": "2021-09-01T12:03:43.839855Z"
        },
        "papermill": {
          "duration": 0.057861,
          "end_time": "2021-09-01T12:04:10.124481",
          "exception": false,
          "start_time": "2021-09-01T12:04:10.066620",
          "status": "completed"
        },
        "tags": [],
        "id": "9cb2149f"
      },
      "outputs": [],
      "source": [
        "df_res.head(3)"
      ]
    },
    {
      "cell_type": "code",
      "execution_count": null,
      "id": "6b168311",
      "metadata": {
        "execution": {
          "iopub.execute_input": "2021-09-01T12:04:10.171440Z",
          "iopub.status.busy": "2021-09-01T12:04:10.170696Z",
          "iopub.status.idle": "2021-09-01T12:04:10.174382Z",
          "shell.execute_reply": "2021-09-01T12:04:10.173880Z",
          "shell.execute_reply.started": "2021-09-01T12:03:43.868354Z"
        },
        "papermill": {
          "duration": 0.028502,
          "end_time": "2021-09-01T12:04:10.174539",
          "exception": false,
          "start_time": "2021-09-01T12:04:10.146037",
          "status": "completed"
        },
        "tags": [],
        "id": "6b168311"
      },
      "outputs": [],
      "source": [
        "df_sum = df_res.sum()\n",
        "df_sum = df_sum.sort_values(ascending=False)\n"
      ]
    },
    {
      "cell_type": "code",
      "execution_count": null,
      "id": "f5af6fae",
      "metadata": {
        "execution": {
          "iopub.execute_input": "2021-09-01T12:04:10.221345Z",
          "iopub.status.busy": "2021-09-01T12:04:10.220462Z",
          "iopub.status.idle": "2021-09-01T12:04:10.225264Z",
          "shell.execute_reply": "2021-09-01T12:04:10.225766Z",
          "shell.execute_reply.started": "2021-09-01T12:03:43.876199Z"
        },
        "papermill": {
          "duration": 0.032197,
          "end_time": "2021-09-01T12:04:10.225963",
          "exception": false,
          "start_time": "2021-09-01T12:04:10.193766",
          "status": "completed"
        },
        "tags": [],
        "id": "f5af6fae"
      },
      "outputs": [],
      "source": [
        "df_sum"
      ]
    },
    {
      "cell_type": "markdown",
      "id": "76ad19c4",
      "metadata": {
        "papermill": {
          "duration": 0.018824,
          "end_time": "2021-09-01T12:04:10.264458",
          "exception": false,
          "start_time": "2021-09-01T12:04:10.245634",
          "status": "completed"
        },
        "tags": [],
        "id": "76ad19c4"
      },
      "source": [
        "Después de contar todos los valores en todas las columnas, podemos construir un **gráfico de frecuencia**."
      ]
    },
    {
      "cell_type": "code",
      "execution_count": null,
      "id": "9fd7ff7b",
      "metadata": {
        "execution": {
          "iopub.execute_input": "2021-09-01T12:04:10.322254Z",
          "iopub.status.busy": "2021-09-01T12:04:10.321452Z",
          "iopub.status.idle": "2021-09-01T12:04:10.903611Z",
          "shell.execute_reply": "2021-09-01T12:04:10.903091Z",
          "shell.execute_reply.started": "2021-09-01T12:03:43.890820Z"
        },
        "papermill": {
          "duration": 0.620137,
          "end_time": "2021-09-01T12:04:10.903767",
          "exception": false,
          "start_time": "2021-09-01T12:04:10.283630",
          "status": "completed"
        },
        "tags": [],
        "id": "9fd7ff7b"
      },
      "outputs": [],
      "source": [
        "plt.figure(figsize=(14,8))\n",
        "plt.title(\"FREQUENCY PLOT\")\n",
        "cnt = 45 # plot only first 'cnt' values\n",
        "color = plt.cm.spring(np.linspace(0, 1, cnt))\n",
        "df_sum.head(cnt).plot.bar(color = color)\n",
        "plt.xticks(rotation = 'vertical')\n",
        "plt.grid(False)\n",
        "plt.axis('on')\n",
        "plt.show()"
      ]
    },
    {
      "cell_type": "markdown",
      "id": "fb968720",
      "metadata": {
        "papermill": {
          "duration": 0.019384,
          "end_time": "2021-09-01T12:04:10.943180",
          "exception": false,
          "start_time": "2021-09-01T12:04:10.923796",
          "status": "completed"
        },
        "tags": [],
        "id": "fb968720"
      },
      "source": [
        "También podemos trazar frecuencias, pero en forma de **mapa de calor**:"
      ]
    },
    {
      "cell_type": "code",
      "execution_count": null,
      "id": "246892b9",
      "metadata": {
        "execution": {
          "iopub.execute_input": "2021-09-01T12:04:11.022602Z",
          "iopub.status.busy": "2021-09-01T12:04:11.019440Z",
          "iopub.status.idle": "2021-09-01T12:04:11.250300Z",
          "shell.execute_reply": "2021-09-01T12:04:11.249825Z",
          "shell.execute_reply.started": "2021-09-01T12:03:44.391030Z"
        },
        "papermill": {
          "duration": 0.287641,
          "end_time": "2021-09-01T12:04:11.250463",
          "exception": false,
          "start_time": "2021-09-01T12:04:10.962822",
          "status": "completed"
        },
        "tags": [],
        "id": "246892b9"
      },
      "outputs": [],
      "source": [
        "plt.figure(figsize=(15,15))\n",
        "cnt = 40 # plot only first 'cnt' values\n",
        "color = plt.cm.hot(np.linspace(0, 1, cnt))\n",
        "df_part = df_sum.head(cnt)\n",
        "squarify.plot(sizes = df_part.values, label = df_part.index, alpha=.8, color = color, text_kwargs={'fontsize':8})\n",
        "plt.axis('off')\n",
        "plt.show()"
      ]
    },
    {
      "cell_type": "markdown",
      "id": "e4875bb9",
      "metadata": {
        "papermill": {
          "duration": 0.021986,
          "end_time": "2021-09-01T12:04:11.294174",
          "exception": false,
          "start_time": "2021-09-01T12:04:11.272188",
          "status": "completed"
        },
        "tags": [],
        "id": "e4875bb9"
      },
      "source": [
        "# 4. Transformación de datos\n",
        "Antes de convertir el conjunto de datos a la vista de transacciones, debemos convertir pandas-data en list-data y luego list-data en numpy-data."
      ]
    },
    {
      "cell_type": "code",
      "execution_count": null,
      "id": "6bf819f7",
      "metadata": {
        "execution": {
          "iopub.execute_input": "2021-09-01T12:04:11.361325Z",
          "iopub.status.busy": "2021-09-01T12:04:11.350930Z",
          "iopub.status.idle": "2021-09-01T12:04:12.127934Z",
          "shell.execute_reply": "2021-09-01T12:04:12.127108Z",
          "shell.execute_reply.started": "2021-09-01T12:03:44.645543Z"
        },
        "papermill": {
          "duration": 0.812516,
          "end_time": "2021-09-01T12:04:12.128140",
          "exception": false,
          "start_time": "2021-09-01T12:04:11.315624",
          "status": "completed"
        },
        "tags": [],
        "id": "6bf819f7"
      },
      "outputs": [],
      "source": [
        "# making each customers shopping items an identical list\n",
        "arr = []\n",
        "for i in range(df.shape[0]):\n",
        "    arr.append([str(df.values[i,j]) for j in range(df.shape[1])])\n",
        "\n",
        "arr = np.array(arr)\n",
        "print(arr.shape)"
      ]
    },
    {
      "cell_type": "markdown",
      "id": "6fefaf80",
      "metadata": {
        "papermill": {
          "duration": 0.025261,
          "end_time": "2021-09-01T12:04:12.180702",
          "exception": false,
          "start_time": "2021-09-01T12:04:12.155441",
          "status": "completed"
        },
        "tags": [],
        "id": "6fefaf80"
      },
      "source": [
        "Y ahora podemos convertir nuestro conjunto de datos a **vista de transacciones**."
      ]
    },
    {
      "cell_type": "code",
      "execution_count": null,
      "id": "57a92e85",
      "metadata": {
        "execution": {
          "iopub.execute_input": "2021-09-01T12:04:12.239851Z",
          "iopub.status.busy": "2021-09-01T12:04:12.234404Z",
          "iopub.status.idle": "2021-09-01T12:04:12.395870Z",
          "shell.execute_reply": "2021-09-01T12:04:12.395300Z",
          "shell.execute_reply.started": "2021-09-01T12:03:45.410437Z"
        },
        "papermill": {
          "duration": 0.192052,
          "end_time": "2021-09-01T12:04:12.396027",
          "exception": false,
          "start_time": "2021-09-01T12:04:12.203975",
          "status": "completed"
        },
        "tags": [],
        "id": "57a92e85"
      },
      "outputs": [],
      "source": [
        "te = TransactionEncoder()\n",
        "data = te.fit_transform(arr)\n",
        "data = pd.DataFrame(data, columns = te.columns_)\n",
        "print(data.shape)"
      ]
    },
    {
      "cell_type": "markdown",
      "id": "7d224751",
      "metadata": {
        "papermill": {
          "duration": 0.021555,
          "end_time": "2021-09-01T12:04:12.439685",
          "exception": false,
          "start_time": "2021-09-01T12:04:12.418130",
          "status": "completed"
        },
        "tags": [],
        "id": "7d224751"
      },
      "source": [
        "Chequeamos los resultados:"
      ]
    },
    {
      "cell_type": "code",
      "execution_count": null,
      "id": "53cc6356",
      "metadata": {
        "execution": {
          "iopub.execute_input": "2021-09-01T12:04:12.503907Z",
          "iopub.status.busy": "2021-09-01T12:04:12.496021Z",
          "iopub.status.idle": "2021-09-01T12:04:12.510889Z",
          "shell.execute_reply": "2021-09-01T12:04:12.510250Z",
          "shell.execute_reply.started": "2021-09-01T12:03:45.577039Z"
        },
        "papermill": {
          "duration": 0.049583,
          "end_time": "2021-09-01T12:04:12.511023",
          "exception": false,
          "start_time": "2021-09-01T12:04:12.461440",
          "status": "completed"
        },
        "tags": [],
        "id": "53cc6356"
      },
      "outputs": [],
      "source": [
        "data.head(3)"
      ]
    },
    {
      "cell_type": "markdown",
      "id": "2e5339c1",
      "metadata": {
        "papermill": {
          "duration": 0.022699,
          "end_time": "2021-09-01T12:04:12.557144",
          "exception": false,
          "start_time": "2021-09-01T12:04:12.534445",
          "status": "completed"
        },
        "tags": [],
        "id": "2e5339c1"
      },
      "source": [
        "Como podemos ver, tenemos **columnas con 'nan' **, por lo que deberíamos eliminarla, porque estos son simplemente valores 'no numéricos', que solo eran celdas vacías en el conjunto de datos original."
      ]
    },
    {
      "cell_type": "code",
      "execution_count": null,
      "id": "7cfe6289",
      "metadata": {
        "execution": {
          "iopub.execute_input": "2021-09-01T12:04:12.617597Z",
          "iopub.status.busy": "2021-09-01T12:04:12.616638Z",
          "iopub.status.idle": "2021-09-01T12:04:12.629859Z",
          "shell.execute_reply": "2021-09-01T12:04:12.629333Z",
          "shell.execute_reply.started": "2021-09-01T12:03:45.600692Z"
        },
        "papermill": {
          "duration": 0.050068,
          "end_time": "2021-09-01T12:04:12.629992",
          "exception": false,
          "start_time": "2021-09-01T12:04:12.579924",
          "status": "completed"
        },
        "tags": [],
        "id": "7cfe6289"
      },
      "outputs": [],
      "source": [
        "data = data.drop(columns=['nan'])\n",
        "data.head(3)"
      ]
    },
    {
      "cell_type": "markdown",
      "id": "e97048ed",
      "metadata": {
        "papermill": {
          "duration": 0.022153,
          "end_time": "2021-09-01T12:04:12.674630",
          "exception": false,
          "start_time": "2021-09-01T12:04:12.652477",
          "status": "completed"
        },
        "tags": [],
        "id": "e97048ed"
      },
      "source": [
        "# 5. Analizando datos con la regla \"apriori\"\n",
        "El algoritmo \"apriori\" supone que cualquier subconjunto de un conjunto de elementos frecuentes debe ser frecuente. Es el algoritmo detrás del análisis de la cesta de la compra. Digamos que una transacción que contiene {Uvas, Manzana, Mango} también contiene {Uvas, Mango}. Entonces, según el principio de Apriori, si {Uvas, Manzana, Mango} es frecuente, entonces {Uvas, Mango} también debe ser frecuente [[2]](https://www.kdnuggets.com/2019/12/ análisis-de-la-cesta-de-mercado.html).\n",
        "\n",
        "**Support:** Es la popularidad predeterminada de un artículo. En términos matemáticos, el soporte del elemento A no es más que la relación entre las transacciones que involucran a A y el número total de transacciones.\n",
        "*Support(Uvas) = (Transacciones que involucran Uvas)/(Transacción total)* [[2]](https://www.kdnuggets.com/2019/12/market-basket-analysis.html).\n",
        "\n",
        "**Confianza:** Probabilidad de que el cliente haya comprado A y B. Se divide el número de transacciones que involucran a A y B por el número de transacciones que involucran a B.\n",
        "*Confianza(A => B) = (Transacciones que involucran tanto a A como a B)/(Transacciones que involucran solo a A)* [[2]](https://www.kdnuggets.com/2019/12/market-basket-analysis .html)."
      ]
    },
    {
      "cell_type": "markdown",
      "id": "24885992",
      "metadata": {
        "papermill": {
          "duration": 0.022411,
          "end_time": "2021-09-01T12:04:12.719562",
          "exception": false,
          "start_time": "2021-09-01T12:04:12.697151",
          "status": "completed"
        },
        "tags": [],
        "id": "24885992"
      },
      "source": [
        "Entonces, ahora usaremos la **regla a priori** para encontrar algunas dependencias. [Aquí](http://rasbt.github.io/mlxtend/api_modules/mlxtend.frequent_patterns/apriori/) puedes leer más al respecto."
      ]
    },
    {
      "cell_type": "code",
      "execution_count": null,
      "id": "2a39050a",
      "metadata": {
        "execution": {
          "iopub.execute_input": "2021-09-01T12:04:12.771819Z",
          "iopub.status.busy": "2021-09-01T12:04:12.770895Z",
          "iopub.status.idle": "2021-09-01T12:04:12.951128Z",
          "shell.execute_reply": "2021-09-01T12:04:12.950568Z",
          "shell.execute_reply.started": "2021-09-01T12:03:45.629269Z"
        },
        "papermill": {
          "duration": 0.208854,
          "end_time": "2021-09-01T12:04:12.951288",
          "exception": false,
          "start_time": "2021-09-01T12:04:12.742434",
          "status": "completed"
        },
        "tags": [],
        "id": "2a39050a"
      },
      "outputs": [],
      "source": [
        "freq_rules = apriori(data, min_support = 0.01, use_colnames = True)\n",
        "freq_rules"
      ]
    },
    {
      "cell_type": "markdown",
      "id": "462e4e3e",
      "metadata": {
        "papermill": {
          "duration": 0.023089,
          "end_time": "2021-09-01T12:04:12.998483",
          "exception": false,
          "start_time": "2021-09-01T12:04:12.975394",
          "status": "completed"
        },
        "tags": [],
        "id": "462e4e3e"
      },
      "source": [
        "Entonces, aquí podemos ver todas las reglas que tienen un soporte mínimo de 0,01.\n",
        "Si necesitas **reglas con cierta longitud**, podemos filtrar los resultados:"
      ]
    },
    {
      "cell_type": "code",
      "execution_count": null,
      "id": "fa9b0488",
      "metadata": {
        "execution": {
          "iopub.execute_input": "2021-09-01T12:04:13.062683Z",
          "iopub.status.busy": "2021-09-01T12:04:13.061776Z",
          "iopub.status.idle": "2021-09-01T12:04:13.066131Z",
          "shell.execute_reply": "2021-09-01T12:04:13.065599Z",
          "shell.execute_reply.started": "2021-09-01T12:03:45.804197Z"
        },
        "papermill": {
          "duration": 0.044309,
          "end_time": "2021-09-01T12:04:13.066287",
          "exception": false,
          "start_time": "2021-09-01T12:04:13.021978",
          "status": "completed"
        },
        "tags": [],
        "id": "fa9b0488"
      },
      "outputs": [],
      "source": [
        "freq_rules['length'] = freq_rules['itemsets'].apply(lambda x: len(x)) # adding 'length' column\n",
        "freq_rules"
      ]
    },
    {
      "cell_type": "code",
      "execution_count": null,
      "id": "5c1a8c9b",
      "metadata": {
        "execution": {
          "iopub.execute_input": "2021-09-01T12:04:13.119638Z",
          "iopub.status.busy": "2021-09-01T12:04:13.118971Z",
          "iopub.status.idle": "2021-09-01T12:04:13.148797Z",
          "shell.execute_reply": "2021-09-01T12:04:13.149286Z",
          "shell.execute_reply.started": "2021-09-01T12:03:45.822616Z"
        },
        "papermill": {
          "duration": 0.059051,
          "end_time": "2021-09-01T12:04:13.149482",
          "exception": false,
          "start_time": "2021-09-01T12:04:13.090431",
          "status": "completed"
        },
        "tags": [],
        "id": "5c1a8c9b"
      },
      "outputs": [],
      "source": [
        "mask = freq_rules['length'] > 1 # creando una máscara para filtrar con cierta condición\n",
        "filtered_freq_rules = freq_rules.loc[mask] # aplicando la máscara\n",
        "filtered_freq_rules # imprimiendo el resultado filtrado"
      ]
    },
    {
      "cell_type": "markdown",
      "id": "9d1975f0",
      "metadata": {
        "papermill": {
          "duration": 0.024523,
          "end_time": "2021-09-01T12:04:13.198638",
          "exception": false,
          "start_time": "2021-09-01T12:04:13.174115",
          "status": "completed"
        },
        "tags": [],
        "id": "9d1975f0"
      },
      "source": [
        "Entonces, al final podemos ver todas las reglas, que tienen cierta longitud y que tienen cierto soporte mínimo."
      ]
    },
    {
      "cell_type": "markdown",
      "id": "7c074ee8",
      "metadata": {
        "papermill": {
          "duration": 0.023627,
          "end_time": "2021-09-01T12:04:13.246388",
          "exception": false,
          "start_time": "2021-09-01T12:04:13.222761",
          "status": "completed"
        },
        "tags": [],
        "id": "7c074ee8"
      },
      "source": [
        "# 6. Conclusión\n",
        "Cada vez más organizaciones están descubriendo formas de utilizar el análisis de la cesta de la compra para obtener información útil sobre asociaciones y relaciones ocultas.\n",
        "\n",
        "\n"
      ]
    }
  ],
  "metadata": {
    "kernelspec": {
      "display_name": "Python 3",
      "language": "python",
      "name": "python3"
    },
    "language_info": {
      "codemirror_mode": {
        "name": "ipython",
        "version": 3
      },
      "file_extension": ".py",
      "mimetype": "text/x-python",
      "name": "python",
      "nbconvert_exporter": "python",
      "pygments_lexer": "ipython3",
      "version": "3.7.10"
    },
    "papermill": {
      "default_parameters": {},
      "duration": 12.474901,
      "end_time": "2021-09-01T12:04:14.082626",
      "environment_variables": {},
      "exception": null,
      "input_path": "__notebook__.ipynb",
      "output_path": "__notebook__.ipynb",
      "parameters": {},
      "start_time": "2021-09-01T12:04:01.607725",
      "version": "2.3.3"
    },
    "colab": {
      "provenance": []
    }
  },
  "nbformat": 4,
  "nbformat_minor": 5
}