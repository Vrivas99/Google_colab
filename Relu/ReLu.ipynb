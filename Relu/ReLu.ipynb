{
  "nbformat": 4,
  "nbformat_minor": 0,
  "metadata": {
    "colab": {
      "provenance": []
    },
    "kernelspec": {
      "name": "python3",
      "display_name": "Python 3"
    },
    "language_info": {
      "name": "python"
    }
  },
  "cells": [
    {
      "cell_type": "code",
      "execution_count": null,
      "metadata": {
        "colab": {
          "base_uri": "https://localhost:8080/"
        },
        "id": "cVKBpSndL7q0",
        "outputId": "123b3f19-bbf8-42bc-f390-2bb04b098265"
      },
      "outputs": [
        {
          "output_type": "stream",
          "name": "stdout",
          "text": [
            "ingrese primer atributo: 0\n",
            "ingrese segundo atributo: 1\n",
            "valor calculado: 1\n"
          ]
        }
      ],
      "source": [
        "# X = entrada\n",
        "# W = peso(weight)\n",
        "# B = bias(sesgo)\n",
        "\n",
        "#u = X1 x W1 + X2 x W2 + X3 x W3 + B ===> Y = f(u)\n",
        "\n",
        "#Relu:\n",
        "# Dara 0 si el valor x es menor a 0\n",
        "# Dara x si el valor de x es mayor o igual a 0\n",
        "\n",
        "X1 = int(input(\"ingrese primer atributo: \"))\n",
        "X2 = int(input(\"ingrese segundo atributo: \"))\n",
        "\n",
        "S1 = max(0,(X1 * 1)+(X2 * 1) + 0)\n",
        "S2 = max(0,(X1 * 1)+(X2 * 1) + -1)\n",
        "Y = max(0,(S1 * 1)+(S2 * -2) + 0)\n",
        "print(f\"valor calculado: {Y}\")\n"
      ]
    }
  ]
}